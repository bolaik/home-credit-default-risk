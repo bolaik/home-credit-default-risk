{
 "cells": [
  {
   "cell_type": "markdown",
   "metadata": {
    "_cell_guid": "2c165ea5-9c16-4765-8f70-4643940c927c",
    "_uuid": "81e16db53fe23d7f531511f996eb6624984d980f"
   },
   "source": [
    "# Home Credit Default Risk - Exploration + Baseline Model"
   ]
  },
  {
   "cell_type": "code",
   "execution_count": 1,
   "metadata": {
    "_cell_guid": "38416409-89e8-431a-a206-0f78136ac8f2",
    "_kg_hide-input": true,
    "_uuid": "51ee747ada40a7cdfb800dfb02046bc353e5ec66"
   },
   "outputs": [
    {
     "data": {
      "text/html": [
       "<script>requirejs.config({paths: { 'plotly': ['https://cdn.plot.ly/plotly-latest.min']},});if(!window.Plotly) {{require(['plotly'],function(plotly) {window.Plotly=plotly;});}}</script>"
      ],
      "text/vnd.plotly.v1+html": [
       "<script>requirejs.config({paths: { 'plotly': ['https://cdn.plot.ly/plotly-latest.min']},});if(!window.Plotly) {{require(['plotly'],function(plotly) {window.Plotly=plotly;});}}</script>"
      ]
     },
     "metadata": {},
     "output_type": "display_data"
    }
   ],
   "source": [
    "from plotly.offline import init_notebook_mode, iplot\n",
    "from wordcloud import WordCloud\n",
    "import plotly.graph_objs as go\n",
    "import matplotlib.pyplot as plt\n",
    "%matplotlib inline\n",
    "import plotly.plotly as py\n",
    "from plotly import tools\n",
    "from datetime import date\n",
    "import pandas as pd\n",
    "import numpy as np \n",
    "import seaborn as sns\n",
    "import random \n",
    "import math\n",
    "import warnings\n",
    "warnings.filterwarnings(\"ignore\")\n",
    "init_notebook_mode(connected=True)\n",
    "\n",
    "path = \"./input/\""
   ]
  },
  {
   "cell_type": "code",
   "execution_count": 2,
   "metadata": {
    "_cell_guid": "eb163c92-0997-412e-a351-c954e6c20338",
    "_kg_hide-input": true,
    "_uuid": "c95dcf079aa5b11cec71fdf6f443d01b51218fb4",
    "collapsed": true
   },
   "outputs": [],
   "source": [
    "app_train = pd.read_csv(path + \"application_train.csv\")\n",
    "bureau = pd.read_csv(path + \"bureau.csv\")\n",
    "bureau_balance = pd.read_csv(path + \"bureau_balance.csv\")\n",
    "credit_card_balance = pd.read_csv(path + \"credit_card_balance.csv\")\n",
    "pcb = pd.read_csv(path + \"POS_CASH_balance.csv\")\n",
    "previous_application = pd.read_csv(path + \"previous_application.csv\")\n",
    "installments_payments = pd.read_csv(path + \"installments_payments.csv\")"
   ]
  },
  {
   "cell_type": "markdown",
   "metadata": {
    "_cell_guid": "2cfd03cc-f0bb-462a-a0d3-34158797cad7",
    "_uuid": "282f624b00c2a71fdb4164b6977d44a9d10124b2"
   },
   "source": [
    "## <a id=\"1\">1. Baseline Model </a>\n",
    "\n",
    "### <a id=\"1.1\">1.1 Dataset Preparation</a>"
   ]
  },
  {
   "cell_type": "code",
   "execution_count": 3,
   "metadata": {
    "_cell_guid": "4dcc95a1-8e83-4984-9546-0dbccab81810",
    "_kg_hide-input": false,
    "_uuid": "adf0822296c484e7ced0e6ec5dbb974e219c7d57",
    "collapsed": true
   },
   "outputs": [],
   "source": [
    "from sklearn.model_selection import train_test_split \n",
    "import lightgbm as lgb\n",
    "\n",
    "# read the test files \n",
    "app_test = pd.read_csv(path + 'application_test.csv')\n",
    "\n",
    "app_test['is_test'] = 1 \n",
    "app_test['is_train'] = 0\n",
    "app_train['is_test'] = 0\n",
    "app_train['is_train'] = 1\n",
    "\n",
    "# target variable\n",
    "Y = app_train['TARGET']\n",
    "train_X = app_train.drop(['TARGET'], axis = 1)\n",
    "\n",
    "# test ID\n",
    "test_id = app_test['SK_ID_CURR']\n",
    "test_X = app_test\n",
    "\n",
    "# merge train and test datasets for preprocessing\n",
    "data = pd.concat([train_X, test_X], axis=0)"
   ]
  },
  {
   "cell_type": "markdown",
   "metadata": {
    "_cell_guid": "30f83912-ecf4-49d9-bd27-ba9d2a3a4d0d",
    "_uuid": "9f906d1da1bccc7fafa88af8ec369a1c9f9d82ae"
   },
   "source": [
    "### <a id=\"1.2\">1.2 Handelling Categorical Features</a>"
   ]
  },
  {
   "cell_type": "code",
   "execution_count": 4,
   "metadata": {
    "_cell_guid": "bbbb40c8-b420-4472-b1cc-3d8e9199f736",
    "_kg_hide-input": false,
    "_uuid": "17438fe941c9d5c16ff99ea76abae92915baf42e",
    "collapsed": true
   },
   "outputs": [],
   "source": [
    "# function to obtain Categorical Features\n",
    "def _get_categorical_features(df):\n",
    "    feats = [col for col in list(df.columns) if df[col].dtype == 'object']\n",
    "    return feats\n",
    "\n",
    "# function to factorize categorical features\n",
    "def _factorize_categoricals(df, cats):\n",
    "    for col in cats:\n",
    "        df[col], _ = pd.factorize(df[col])\n",
    "    return df \n",
    "\n",
    "# function to create dummy variables of categorical features\n",
    "def _get_dummies(df, cats):\n",
    "    for col in cats:\n",
    "        df = pd.concat([df, pd.get_dummies(df[col], prefix=col)], axis=1)\n",
    "    return df \n",
    "\n",
    "# get categorical features\n",
    "data_cats = _get_categorical_features(data)\n",
    "prev_app_cats = _get_categorical_features(previous_application)\n",
    "bureau_cats = _get_categorical_features(bureau)\n",
    "pcb_cats = _get_categorical_features(pcb)\n",
    "ccbal_cats = _get_categorical_features(credit_card_balance)\n",
    "\n",
    "# create additional dummy features - \n",
    "previous_application = _get_dummies(previous_application, prev_app_cats)\n",
    "bureau = _get_dummies(bureau, bureau_cats)\n",
    "pcb = _get_dummies(pcb, pcb_cats)\n",
    "credit_card_balance = _get_dummies(credit_card_balance, ccbal_cats)\n",
    "\n",
    "# factorize the categorical features from train and test data\n",
    "data = _factorize_categoricals(data, data_cats)"
   ]
  },
  {
   "cell_type": "markdown",
   "metadata": {
    "_cell_guid": "bb478ad4-70b7-43de-9043-4d162da1bcfb",
    "_uuid": "4c85c54935d70e7ae62705d7daec1913c1332941"
   },
   "source": [
    "### <a id=\"1.3\">1.3 Feature Engineering</a>"
   ]
  },
  {
   "cell_type": "markdown",
   "metadata": {
    "_cell_guid": "297608a9-e175-45df-9969-24f06103ac24",
    "_uuid": "5e4542f9d60ccf2f6075d8f8ce135c16d6f133f2"
   },
   "source": [
    "### <a id=\"1.3.1\">1.3.1 Feature Engineering - Previous Applications</a>\n",
    "\n",
    "Credits to excellent kernel shared by Olivier for more ideas: https://www.kaggle.com/ogrellier/good-fun-with-ligthgbm "
   ]
  },
  {
   "cell_type": "code",
   "execution_count": 5,
   "metadata": {
    "_cell_guid": "c580da5f-931b-40b8-8ab5-94191c17687d",
    "_uuid": "6f14a7ac451246b17e071bf7c090d4a3c94bd14d",
    "collapsed": true
   },
   "outputs": [],
   "source": [
    "## More Feature Ideas Reference : https://www.kaggle.com/ogrellier/good-fun-with-ligthgbm \n",
    "\n",
    "## count the number of previous applications for a given ID\n",
    "prev_apps_count = previous_application[['SK_ID_CURR', 'SK_ID_PREV']].groupby('SK_ID_CURR').count()\n",
    "previous_application['SK_ID_PREV'] = previous_application['SK_ID_CURR'].map(prev_apps_count['SK_ID_PREV'])\n",
    "\n",
    "## Average values for all other features in previous applications\n",
    "prev_apps_avg = previous_application.groupby('SK_ID_CURR').mean()\n",
    "prev_apps_avg.columns = ['p_' + col for col in prev_apps_avg.columns]\n",
    "data = data.merge(right=prev_apps_avg.reset_index(), how='left', on='SK_ID_CURR')"
   ]
  },
  {
   "cell_type": "markdown",
   "metadata": {
    "_cell_guid": "17a0e75a-0cc2-4b57-b49f-9a7bb2de8ae8",
    "_uuid": "89a60099b3c00ea4a655b87faec58518da49ed4f"
   },
   "source": [
    "### <a id=\"1.3.2\">1.3.2 Feature Engineering - Bureau Data</a>"
   ]
  },
  {
   "cell_type": "code",
   "execution_count": 6,
   "metadata": {
    "_cell_guid": "34e4a082-8b0a-401b-a6f5-445a80ff914c",
    "_uuid": "a60c27e992209f896a8506c753541b230e8e059a",
    "collapsed": true
   },
   "outputs": [],
   "source": [
    "# Average Values for all bureau features \n",
    "bureau_avg = bureau.groupby('SK_ID_CURR').mean()\n",
    "bureau_avg['buro_count'] = bureau[['SK_ID_BUREAU','SK_ID_CURR']].groupby('SK_ID_CURR').count()['SK_ID_BUREAU']\n",
    "bureau_avg.columns = ['b_' + f_ for f_ in bureau_avg.columns]\n",
    "data = data.merge(right=bureau_avg.reset_index(), how='left', on='SK_ID_CURR')\n"
   ]
  },
  {
   "cell_type": "markdown",
   "metadata": {
    "_cell_guid": "6fb9b781-ddd2-48b4-ab5d-329ad4b2c7c9",
    "_uuid": "3189330af669cbc014df9fd0184f40bb5b705c2a"
   },
   "source": [
    "### <a id=\"1.3.3\">1.3.3 Feature Engineering - Previous Installments</a>"
   ]
  },
  {
   "cell_type": "code",
   "execution_count": 7,
   "metadata": {
    "_cell_guid": "db1c8cae-fda4-4d8c-ad01-d9dafddcc5d0",
    "_uuid": "6225de449619e9caef0cfa377e5902bc23fc2efa",
    "collapsed": true
   },
   "outputs": [],
   "source": [
    "## count the number of previous installments\n",
    "cnt_inst = installments_payments[['SK_ID_CURR', 'SK_ID_PREV']].groupby('SK_ID_CURR').count()\n",
    "installments_payments['SK_ID_PREV'] = installments_payments['SK_ID_CURR'].map(cnt_inst['SK_ID_PREV'])\n",
    "\n",
    "## Average values for all other variables in installments payments\n",
    "avg_inst = installments_payments.groupby('SK_ID_CURR').mean()\n",
    "avg_inst.columns = ['i_' + f_ for f_ in avg_inst.columns]\n",
    "data = data.merge(right=avg_inst.reset_index(), how='left', on='SK_ID_CURR')"
   ]
  },
  {
   "cell_type": "markdown",
   "metadata": {
    "_cell_guid": "60867702-d206-40f5-b7c9-2b16d43dde50",
    "_uuid": "e6ceb2f03c136ee5e87da21e7bedfbdf2894017f"
   },
   "source": [
    "### <a id=\"1.3.4\">1.3.4 Feature Engineering - Pos Cash Balance</a>"
   ]
  },
  {
   "cell_type": "code",
   "execution_count": 8,
   "metadata": {
    "_cell_guid": "d86090df-92a6-4e4b-ae54-7b9a672076ca",
    "_uuid": "c55e63ed63a14d5fa7a0ddda9c4e3df0f8e3fa5c",
    "collapsed": true
   },
   "outputs": [],
   "source": [
    "### count the number of pos cash for a given ID\n",
    "pcb_count = pcb[['SK_ID_CURR', 'SK_ID_PREV']].groupby('SK_ID_CURR').count()\n",
    "pcb['SK_ID_PREV'] = pcb['SK_ID_CURR'].map(pcb_count['SK_ID_PREV'])\n",
    "\n",
    "## Average Values for all other variables in pos cash\n",
    "pcb_avg = pcb.groupby('SK_ID_CURR').mean()\n",
    "data = data.merge(right=pcb_avg.reset_index(), how='left', on='SK_ID_CURR')"
   ]
  },
  {
   "cell_type": "markdown",
   "metadata": {
    "_cell_guid": "992ee018-7b43-4e73-9c0d-326689406fc0",
    "_uuid": "7e9b9e71475186b2061c4d172cc74a17080f235f"
   },
   "source": [
    "### <a id=\"1.3.5\">1.3.5 Feature Engineering - Credit Card Balance </a>"
   ]
  },
  {
   "cell_type": "code",
   "execution_count": 9,
   "metadata": {
    "_cell_guid": "84f69895-b332-4bfc-a0e8-54f222f27508",
    "_uuid": "efe17c3db4d8b2899373d277dc31ea85d33628aa",
    "collapsed": true
   },
   "outputs": [],
   "source": [
    "### count the number of previous applications for a given ID\n",
    "nb_prevs = credit_card_balance[['SK_ID_CURR', 'SK_ID_PREV']].groupby('SK_ID_CURR').count()\n",
    "credit_card_balance['SK_ID_PREV'] = credit_card_balance['SK_ID_CURR'].map(nb_prevs['SK_ID_PREV'])\n",
    "\n",
    "### average of all other columns \n",
    "avg_cc_bal = credit_card_balance.groupby('SK_ID_CURR').mean()\n",
    "avg_cc_bal.columns = ['cc_bal_' + f_ for f_ in avg_cc_bal.columns]\n",
    "data = data.merge(right=avg_cc_bal.reset_index(), how='left', on='SK_ID_CURR')"
   ]
  },
  {
   "cell_type": "markdown",
   "metadata": {
    "_cell_guid": "7f56b30f-086a-4499-917c-5aacd07a725b",
    "_uuid": "35923472110207bcc9aecbd4ff12796618f7e931"
   },
   "source": [
    "### <a id=\"1.3.6\">1.3.6 Prepare Final Train and Test data</a>"
   ]
  },
  {
   "cell_type": "code",
   "execution_count": 10,
   "metadata": {
    "_cell_guid": "bced14cf-71fc-4337-b145-1e10f85bb28f",
    "_uuid": "4f32b92d4c6369152af943ab22004b35715b86df",
    "collapsed": true
   },
   "outputs": [],
   "source": [
    "#### prepare final Train X and Test X dataframes \n",
    "ignore_features = ['SK_ID_CURR', 'is_train', 'is_test']\n",
    "relevant_features = [col for col in data.columns if col not in ignore_features]\n",
    "trainX = data[data['is_train'] == 1][relevant_features]\n",
    "testX = data[data['is_test'] == 1][relevant_features]"
   ]
  },
  {
   "cell_type": "markdown",
   "metadata": {
    "_cell_guid": "b67627ef-250c-4571-a75f-e14f5289b076",
    "_uuid": "070e36e001dfc99b20059bf8fd328d2fcafbb2e3"
   },
   "source": [
    "### <a id=\"1.4\">1.4 Create Train and Validation Sets</a>"
   ]
  },
  {
   "cell_type": "code",
   "execution_count": 11,
   "metadata": {
    "_cell_guid": "a55f5d67-fadc-4c7d-9e34-952ec96b42c7",
    "_uuid": "6b8584e37a3563f272abfba4e21f534240494b52",
    "collapsed": true
   },
   "outputs": [],
   "source": [
    "x_train, x_val, y_train, y_val = train_test_split(trainX, Y, test_size=0.2, random_state=18)"
   ]
  },
  {
   "cell_type": "markdown",
   "metadata": {
    "_cell_guid": "8cd7bbf8-0a9f-4d5d-a563-0fd85bd3244e",
    "_uuid": "d2788b8496e5210d3a2fcbd812d2a82a84934d6a"
   },
   "source": [
    "### <a id=\"1.5\">1.5 Fit the LightGBM Model</a>"
   ]
  },
  {
   "cell_type": "code",
   "execution_count": 12,
   "metadata": {
    "collapsed": true
   },
   "outputs": [],
   "source": [
    "lgb_train = lgb.Dataset(data=x_train, label=y_train)\n",
    "lgb_eval = lgb.Dataset(data=x_val, label=y_val)"
   ]
  },
  {
   "cell_type": "code",
   "execution_count": 13,
   "metadata": {
    "_cell_guid": "1447e73c-e7b1-4aac-a7a3-839b81b9cbae",
    "_kg_hide-input": false,
    "_uuid": "2fb7bc4662df2c07cfbfabe9860c79d0d4635553",
    "code_folding": []
   },
   "outputs": [
    {
     "name": "stdout",
     "output_type": "stream",
     "text": [
      "Training until validation scores don't improve for 150 rounds.\n",
      "[200]\tvalid_0's auc: 0.746071\n",
      "[400]\tvalid_0's auc: 0.760976\n",
      "[600]\tvalid_0's auc: 0.770825\n",
      "[800]\tvalid_0's auc: 0.775507\n",
      "[1000]\tvalid_0's auc: 0.777815\n",
      "[1200]\tvalid_0's auc: 0.779362\n",
      "[1400]\tvalid_0's auc: 0.780163\n",
      "[1600]\tvalid_0's auc: 0.780651\n",
      "[1800]\tvalid_0's auc: 0.780958\n",
      "[2000]\tvalid_0's auc: 0.781184\n",
      "[2200]\tvalid_0's auc: 0.781256\n",
      "[2400]\tvalid_0's auc: 0.781321\n",
      "[2600]\tvalid_0's auc: 0.781402\n",
      "[2800]\tvalid_0's auc: 0.781418\n",
      "Early stopping, best iteration is:\n",
      "[2686]\tvalid_0's auc: 0.781434\n"
     ]
    }
   ],
   "source": [
    "params = {'task': 'train', \n",
    "          'boosting_type': 'gbdt', \n",
    "          'objective': 'binary', \n",
    "          'metric': 'auc', \n",
    "          'learning_rate': 0.01, \n",
    "          'num_leaves': 48, \n",
    "          'num_iteration': 5000, \n",
    "          'verbose': 0 ,\n",
    "          'colsample_bytree':.8, \n",
    "          'subsample':.9, \n",
    "          'max_depth':7, \n",
    "          'reg_alpha':.1, \n",
    "          'reg_lambda':.1, \n",
    "          'min_split_gain':.01, \n",
    "          'min_child_weight':1}\n",
    "model = lgb.train(params, lgb_train, valid_sets=lgb_eval, early_stopping_rounds=150, verbose_eval=200)"
   ]
  },
  {
   "cell_type": "markdown",
   "metadata": {
    "_cell_guid": "95e66f13-c1ba-46a3-9fca-53422cb5014f",
    "_uuid": "2e517e7014d049789c97b393a7ab8e72f9932672"
   },
   "source": [
    "### <a id=\"1.5.1\">1.5.1 Feature Importance </a>"
   ]
  },
  {
   "cell_type": "code",
   "execution_count": 14,
   "metadata": {
    "_cell_guid": "d5acdc09-bf70-489e-a6f5-7db8f9a10b87",
    "_kg_hide-input": false,
    "_uuid": "74f91f79d44b44c46445c6ad7e248b5fd8bfe90e"
   },
   "outputs": [
    {
     "data": {
      "image/png": "[encoded data removed]",
      "text/plain": [
       "<Figure size 432x288 with 1 Axes>"
      ]
     },
     "metadata": {},
     "output_type": "display_data"
    }
   ],
   "source": [
    "lgb.plot_importance(model, max_num_features=20);"
   ]
  },
  {
   "cell_type": "markdown",
   "metadata": {},
   "source": [
    "### <a id=\"1.5.2\">1.5.2 Output Prediction On Validation Dataset </a>"
   ]
  },
  {
   "cell_type": "code",
   "execution_count": 15,
   "metadata": {
    "code_folding": [],
    "collapsed": true
   },
   "outputs": [],
   "source": [
    "segment_list = ['NAME_CONTRACT_TYPE',\n",
    "                'CODE_GENDER',\n",
    "                'FLAG_OWN_CAR',\n",
    "                'FLAG_OWN_REALTY',\n",
    "                'NAME_TYPE_SUITE',\n",
    "                'NAME_INCOME_TYPE',\n",
    "                'NAME_EDUCATION_TYPE',\n",
    "                'NAME_FAMILY_STATUS',\n",
    "                'NAME_HOUSING_TYPE',\n",
    "                'FLAG_MOBIL',\n",
    "                'FLAG_EMP_PHONE',\n",
    "                'FLAG_WORK_PHONE',\n",
    "                'FLAG_CONT_MOBILE',\n",
    "                'FLAG_PHONE',\n",
    "                'FLAG_EMAIL',\n",
    "                'OCCUPATION_TYPE',\n",
    "                'REG_REGION_NOT_LIVE_REGION',\n",
    "                'REG_REGION_NOT_WORK_REGION',\n",
    "                'LIVE_REGION_NOT_WORK_REGION',\n",
    "                'REG_CITY_NOT_LIVE_CITY',\n",
    "                'REG_CITY_NOT_WORK_CITY',\n",
    "                'LIVE_CITY_NOT_WORK_CITY',\n",
    "                'ORGANIZATION_TYPE',\n",
    "                'FLAG_DOCUMENT_2',\n",
    "                'FLAG_DOCUMENT_3',\n",
    "                'FLAG_DOCUMENT_4',\n",
    "                'FLAG_DOCUMENT_5',\n",
    "                'FLAG_DOCUMENT_6',\n",
    "                'FLAG_DOCUMENT_7',\n",
    "                'FLAG_DOCUMENT_8',\n",
    "                'FLAG_DOCUMENT_9',\n",
    "                'FLAG_DOCUMENT_10',\n",
    "                'FLAG_DOCUMENT_11',\n",
    "                'FLAG_DOCUMENT_12',\n",
    "                'FLAG_DOCUMENT_13',\n",
    "                'FLAG_DOCUMENT_14',\n",
    "                'FLAG_DOCUMENT_15',\n",
    "                'FLAG_DOCUMENT_16',\n",
    "                'FLAG_DOCUMENT_17',\n",
    "                'FLAG_DOCUMENT_18',\n",
    "                'FLAG_DOCUMENT_19',\n",
    "                'FLAG_DOCUMENT_20',\n",
    "                'FLAG_DOCUMENT_21',\n",
    "               ]"
   ]
  },
  {
   "cell_type": "code",
   "execution_count": 16,
   "metadata": {
    "collapsed": true
   },
   "outputs": [],
   "source": [
    "preds = model.predict(x_val)"
   ]
  },
  {
   "cell_type": "code",
   "execution_count": 17,
   "metadata": {
    "collapsed": true
   },
   "outputs": [],
   "source": [
    "sub_lgb = x_val[segment_list].copy()\n",
    "sub_lgb['TARGET'] = y_val\n",
    "sub_lgb['lgb_score'] = preds"
   ]
  },
  {
   "cell_type": "markdown",
   "metadata": {},
   "source": [
    "### <a id=\"1.5.3\">1.5.3 Explore Gaichart On Validation Dataset </a>"
   ]
  },
  {
   "cell_type": "code",
   "execution_count": 45,
   "metadata": {
    "code_folding": [],
    "collapsed": true
   },
   "outputs": [],
   "source": [
    "def operation_performance(data, score, weights=None, badTag=None, groups=None,\n",
    "                          filters=None, catches=None, points=100., rank_base='dummy_weight') :\n",
    "    '''\n",
    "    Obtain granularized operating points (as catch / population) depending on model scores,\n",
    "    Then calculate the cut_off score, amount, catch rate, hit rate in each catergory\n",
    "    '''\n",
    "\n",
    "    if weights in [None, []]:\n",
    "        data['dummy_weight'] = np.ones(data.shape[0], dtype='int64')\n",
    "        weights = ['dummy_weight']\n",
    "    if not rank_base:\n",
    "        data['dummy_weight'] = np.ones(data.shape[0], dtype='int64')\n",
    "        rank_base = 'dummy_weight'\n",
    "    if badTag is None:\n",
    "        badTag = 'is_bad'\n",
    "    if groups in [None, []]:\n",
    "        data['dummy_group'] = np.ones(data.shape[0], dtype='int64')\n",
    "        groups = ['dummy_group']\n",
    "    if catches in [None, []]:\n",
    "        catches = []\n",
    "\n",
    "    raw = data[[score] + weights + [badTag] + groups + catches]\n",
    "\n",
    "    score_rank = \"cut_off\"\n",
    "    # Assuming higher score indicates higher risk\n",
    "    raw.loc[:, score_rank] = raw.groupby(groups)[score].transform(pd.Series.rank, method='min', ascending=False, na_option='bottom')\n",
    "    score_groups = groups + [score_rank]\n",
    "    raw.sort_values(by=score_groups, inplace=True)\n",
    "    #rank_cumsum = pd.DataFrame(raw.groupby(score_groups)[rank_base].sum().groupby(level=-2).cumsum(),\n",
    "    #                           columns=[\"rank_cumsum\"]).reset_index()\n",
    "    rank_cumsum = pd.DataFrame(raw.groupby(score_groups)[rank_base].sum().groupby(level=groups).cumsum().reset_index())\n",
    "    rank_cumsum.columns = pd.Index(score_groups + ['rank_cumsum'])\n",
    "    raw = raw.merge(rank_cumsum, how=\"left\", on=score_groups)\n",
    "    raw.loc[:, score_rank] = raw['rank_cumsum'] / raw.groupby(groups)[rank_base].transform(pd.Series.sum)\n",
    "    raw.loc[:, score_rank] = raw[score_rank].apply(lambda x: math.ceil(x * points) * (1.0 / points))\n",
    "    raw.pop('rank_cumsum')\n",
    "\n",
    "    bad_dummy_names = {}\n",
    "    full_bads_dummy_names = []\n",
    "    bad_dummy = pd.get_dummies(raw[badTag])\n",
    "    bad_dummy.rename(columns=dict(zip(bad_dummy.columns, [\"{}|{}\".format(x[0], x[1]) for x in zip([badTag] * len(bad_dummy.columns), bad_dummy.columns)])), inplace=True)\n",
    "    raw = raw.merge(bad_dummy, left_index=True, right_index=True)\n",
    "    bad_dummy_names[badTag] = list(bad_dummy.columns)\n",
    "    full_bads_dummy_names.extend(bad_dummy.columns)\n",
    "\n",
    "    weights_bads_names = [x + '|' + y for x in weights for y in full_bads_dummy_names]\n",
    "    weights_bads_raw = pd.concat([raw[full_bads_dummy_names].mul(raw[x], axis=0) for x in weights], axis=1)\n",
    "    weights_bads_raw.columns = pd.Index(weights_bads_names)\n",
    "    raw[weights_bads_names] = weights_bads_raw\n",
    "\n",
    "    score_cut_offs = raw.groupby(score_groups)[score].min()\n",
    "    score_cut_offs.name = 'cut_off_score'\n",
    "    sums = raw.groupby(score_groups)[weights_bads_names + weights + catches].sum()\n",
    "    totals = sums.sum(level=groups)\n",
    "    sums = sums.groupby(level=groups).cumsum()\n",
    "\n",
    "    # Catch rates\n",
    "    if type(totals.index) is pd.MultiIndex :\n",
    "        catch_rates_parts = []\n",
    "        for tidx in totals.index :\n",
    "            catch_rates_part = sums.loc[tidx, :].divide(totals.loc[tidx, :] + 1e-20, axis=1)\n",
    "            new_idx = [[x] for x in tidx]\n",
    "            new_idx.append(catch_rates_part.index)\n",
    "            catch_rates_part.index = pd.MultiIndex.from_product(new_idx)\n",
    "            catch_rates_part.index.names = score_groups\n",
    "            catch_rates_parts.append(catch_rates_part)\n",
    "        catch_rates = pd.concat(catch_rates_parts)\n",
    "    else :\n",
    "        catch_rates = sums.divide(totals + 1e-20, axis=0)\n",
    "    catch_rates.columns = [x + '|catch_rate' for x in catch_rates.columns]\n",
    "\n",
    "    # False positive rate\n",
    "    fpr_list = []\n",
    "    fpr_names = []\n",
    "    for weight in weights:\n",
    "        weight_neg_names = [weight + '|' + badTag + '|' + neg for neg in negTags]\n",
    "        weight_pos_names = [weight + '|' + badTag + '|' + pos for pos in posTags]\n",
    "        fpr = sums[weight_neg_names].sum(axis=1).divide(sums[weight_pos_names].sum(axis=1))\n",
    "        fpr_list.append(fpr)\n",
    "        fpr_names.append(weight + '|' + badTag + '|' + '_'.join(negTags) + '|' + '_'.join(posTags) + '|FPR')\n",
    "    fprs = pd.concat(fpr_list, axis=1)\n",
    "    fprs.columns = pd.Index(fpr_names)\n",
    "\n",
    "    # Hit rates\n",
    "    hit_rate_list = []\n",
    "    hit_rate_names = []\n",
    "    for weight in weights :\n",
    "        weight_bads_names = [weight + '|' + x for x in full_bads_dummy_names]\n",
    "        hit_rate = sums[weight_bads_names].divide(sums[weight] + 1e-20, axis=0)\n",
    "        hit_rate_list.append(hit_rate)\n",
    "        hit_rate_names.extend([x + '|hit_rate' for x in weight_bads_names])\n",
    "    hit_rates = pd.concat(hit_rate_list, axis=1)\n",
    "    hit_rates.columns = pd.Index(hit_rate_names)\n",
    "\n",
    "    raw_output = pd.concat([score_cut_offs, sums, catch_rates, hit_rates, fprs], axis=1)\n",
    "    raw_output.reset_index(inplace=True)\n",
    "    raw_output['score_name'] = score\n",
    "    raw_output['rank_base'] = rank_base\n",
    "    raw_output['group_name'] = \",\".join(groups)\n",
    "    raw_output['filter_name'] = filters\n",
    "    return raw_output"
   ]
  },
  {
   "cell_type": "code",
   "execution_count": 234,
   "metadata": {},
   "outputs": [
    {
     "name": "stdout",
     "output_type": "stream",
     "text": [
      "FLAG_DOCUMENT_21 -- [0, 1]\n"
     ]
    }
   ],
   "source": [
    "seg = segment_list[42]\n",
    "print('{} -- {}'.format(seg, list(app_train[seg].unique())))\n",
    "scores = ['lgb_score']\n",
    "weights = []\n",
    "rank_base = ''\n",
    "badTag = 'TARGET'\n",
    "posTags = ['1']\n",
    "negTags = ['0']\n",
    "groups = [seg]\n",
    "group_by_month = False\n",
    "filters = ''\n",
    "points = 1000"
   ]
  },
  {
   "cell_type": "code",
   "execution_count": 235,
   "metadata": {},
   "outputs": [
    {
     "name": "stdout",
     "output_type": "stream",
     "text": [
      "Processing lgb_score\n"
     ]
    }
   ],
   "source": [
    "first = True\n",
    "for score in scores:\n",
    "    print('Processing ' + score)\n",
    "    performance_i = operation_performance(sub_lgb, score=score, weights=weights, badTag=badTag, groups=groups,\n",
    "                                          filters=filters, catches=None, points = points, rank_base=rank_base)\n",
    "    if first:\n",
    "        performance = performance_i\n",
    "        first = False\n",
    "    else:\n",
    "        performance = pd.concat([performance, performance_i], axis=0)"
   ]
  },
  {
   "cell_type": "code",
   "execution_count": 236,
   "metadata": {},
   "outputs": [
    {
     "data": {
      "image/png": "[encoded data removed]",
      "text/plain": [
       "<Figure size 432x288 with 1 Axes>"
      ]
     },
     "metadata": {},
     "output_type": "display_data"
    }
   ],
   "source": [
    "sub_lgb.groupby(['TARGET'])[seg].value_counts().unstack('TARGET').plot(kind='bar', stacked=True)\n",
    "plt.show()"
   ]
  },
  {
   "cell_type": "code",
   "execution_count": 196,
   "metadata": {},
   "outputs": [
    {
     "data": {
      "image/png": "[encoded data removed]",
      "text/plain": [
       "<Figure size 432x288 with 1 Axes>"
      ]
     },
     "metadata": {},
     "output_type": "display_data"
    }
   ],
   "source": [
    "performance.groupby(['cut_off', seg]).mean()['cut_off_score'].unstack().plot()\n",
    "plt.ylabel('cut off score')\n",
    "plt.show()"
   ]
  },
  {
   "cell_type": "code",
   "execution_count": 197,
   "metadata": {},
   "outputs": [
    {
     "data": {
      "image/png": "[encoded data removed]",
      "text/plain": [
       "<Figure size 432x288 with 1 Axes>"
      ]
     },
     "metadata": {},
     "output_type": "display_data"
    }
   ],
   "source": [
    "performance.groupby(['cut_off', seg]).mean()['dummy_weight|TARGET|1|catch_rate'].unstack().plot()\n",
    "plt.ylabel('catch rate')\n",
    "plt.show()"
   ]
  },
  {
   "cell_type": "code",
   "execution_count": 102,
   "metadata": {},
   "outputs": [
    {
     "data": {
      "image/png": "[encoded data removed]",
      "text/plain": [
       "<Figure size 432x288 with 1 Axes>"
      ]
     },
     "metadata": {},
     "output_type": "display_data"
    }
   ],
   "source": [
    "performance.groupby(['cut_off', seg]).mean()['dummy_weight|TARGET|0|1|FPR'].unstack().plot()\n",
    "plt.ylabel('FPR')\n",
    "plt.show()"
   ]
  },
  {
   "cell_type": "markdown",
   "metadata": {
    "_cell_guid": "f6454263-3924-45a8-bdeb-870d9ace4277",
    "_uuid": "dcc834ec4ff78a3529c4a8488534999a23ba040e"
   },
   "source": [
    "### <a id=\"1.7\">1.7 Predict</a>"
   ]
  },
  {
   "cell_type": "code",
   "execution_count": null,
   "metadata": {
    "_cell_guid": "d1513dd9-5e5f-4157-b7fe-dceb9db5483b",
    "_uuid": "7976790886f7d85428dbaf40703cdd6a93586ba7",
    "collapsed": true
   },
   "outputs": [],
   "source": [
    "preds = model.predict(testX)\n",
    "sub_lgb = pd.DataFrame()\n",
    "sub_lgb['SK_ID_CURR'] = test_id\n",
    "sub_lgb['TARGET'] = preds\n",
    "sub_lgb.to_csv(\"lgb_baseline.csv\", index=False)\n",
    "sub_lgb.head()"
   ]
  },
  {
   "cell_type": "markdown",
   "metadata": {
    "_cell_guid": "0d33c52f-93c7-463f-8036-2c004b27ce3e",
    "_uuid": "b1536d6705f869b7f7f61f4fdad0ed911778d815"
   },
   "source": [
    "#### The output file scores 0.772 on the leaderboard.\n",
    "\n",
    "Thanks for viewing. "
   ]
  }
 ],
 "metadata": {
  "kernelspec": {
   "display_name": "Python 3",
   "language": "python",
   "name": "python3"
  },
  "language_info": {
   "codemirror_mode": {
    "name": "ipython",
    "version": 3
   },
   "file_extension": ".py",
   "mimetype": "text/x-python",
   "name": "python",
   "nbconvert_exporter": "python",
   "pygments_lexer": "ipython3",
   "version": "3.6.4"
  },
  "latex_envs": {
   "LaTeX_envs_menu_present": true,
   "autoclose": false,
   "autocomplete": true,
   "bibliofile": "biblio.bib",
   "cite_by": "apalike",
   "current_citInitial": 1,
   "eqLabelWithNumbers": true,
   "eqNumInitial": 1,
   "hotkeys": {
    "equation": "Ctrl-E",
    "itemize": "Ctrl-I"
   },
   "labels_anchors": false,
   "latex_user_defs": false,
   "report_style_numbering": false,
   "user_envs_cfg": false
  },
  "toc": {
   "nav_menu": {},
   "number_sections": true,
   "sideBar": true,
   "skip_h1_title": false,
   "title_cell": "Table of Contents",
   "title_sidebar": "Contents",
   "toc_cell": false,
   "toc_position": {},
   "toc_section_display": true,
   "toc_window_display": false
  }
 },
 "nbformat": 4,
 "nbformat_minor": 1
}
